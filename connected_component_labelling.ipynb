{
 "cells": [
  {
   "cell_type": "code",
   "execution_count": 1,
   "metadata": {},
   "outputs": [],
   "source": [
    "from PIL import Image \n",
    "import cv2\n",
    "import numpy as np\n",
    "import matplotlib.pyplot as plt"
   ]
  },
  {
   "cell_type": "code",
   "execution_count": 71,
   "metadata": {},
   "outputs": [
    {
     "data": {
      "image/png": "[encoded data removed]",
      "text/plain": [
       "<PIL.PngImagePlugin.PngImageFile image mode=RGB size=444x210 at 0x7F85B0653B80>"
      ]
     },
     "execution_count": 71,
     "metadata": {},
     "output_type": "execute_result"
    }
   ],
   "source": [
    "imgfile = './cc_sample_img.png'\n",
    "\n",
    "img = Image.open(imgfile)\n",
    "\n",
    "img"
   ]
  },
  {
   "cell_type": "code",
   "execution_count": 72,
   "metadata": {},
   "outputs": [],
   "source": [
    "# grayscale\n",
    "img = img.convert('L')"
   ]
  },
  {
   "cell_type": "code",
   "execution_count": 78,
   "metadata": {},
   "outputs": [
    {
     "data": {
      "text/plain": [
       "<matplotlib.image.AxesImage at 0x7f85b07e6370>"
      ]
     },
     "execution_count": 78,
     "metadata": {},
     "output_type": "execute_result"
    },
    {
     "data": {
      "image/png": "[encoded data removed]",
      "text/plain": [
       "<Figure size 432x288 with 1 Axes>"
      ]
     },
     "metadata": {
      "needs_background": "light"
     },
     "output_type": "display_data"
    }
   ],
   "source": [
    "# binarization\n",
    "thresh_value = 30\n",
    "_, bin_img = cv2.threshold(np.array(img), thresh_value, 255, cv2.THRESH_BINARY)\n",
    "bin_img = bin_img / 255.\n",
    "plt.imshow(bin_img)"
   ]
  },
  {
   "cell_type": "code",
   "execution_count": 79,
   "metadata": {},
   "outputs": [
    {
     "name": "stdout",
     "output_type": "stream",
     "text": [
      "[0. 1.]\n"
     ]
    }
   ],
   "source": [
    "# object들은 255값, 배경은 0\n",
    "print(np.unique(bin_img))"
   ]
  },
  {
   "cell_type": "code",
   "execution_count": 80,
   "metadata": {},
   "outputs": [
    {
     "data": {
      "image/png": "[encoded data removed]",
      "text/plain": [
       "<Figure size 432x288 with 1 Axes>"
      ]
     },
     "metadata": {
      "needs_background": "light"
     },
     "output_type": "display_data"
    },
    {
     "data": {
      "text/plain": [
       "<matplotlib.image.AxesImage at 0x7f85b036f4f0>"
      ]
     },
     "execution_count": 80,
     "metadata": {},
     "output_type": "execute_result"
    },
    {
     "data": {
      "image/png": "[encoded data removed]",
      "text/plain": [
       "<Figure size 432x288 with 1 Axes>"
      ]
     },
     "metadata": {
      "needs_background": "light"
     },
     "output_type": "display_data"
    }
   ],
   "source": [
    "# 이미지에 slide할 filter\n",
    "# 3x3 영역 내에 0이 아닌 값을 갖는 픽셀들끼리 연결시킨다.\n",
    "connectivity_4 = np.array([[0,1,0],\n",
    "                           [1,0,0],\n",
    "                           [0,0,0]])\n",
    "connectivity_8 = np.array([[1,1,1],\n",
    "                           [1,0,0],\n",
    "                           [0,0,0]])\n",
    "plt.show()\n",
    "plt.imshow(connectivity_4)\n",
    "plt.show()\n",
    "plt.imshow(connectivity_8)"
   ]
  },
  {
   "cell_type": "code",
   "execution_count": 81,
   "metadata": {},
   "outputs": [],
   "source": [
    "def find_labels(labels, r, c, neighbors) :\n",
    "    tmp_labels = labels[r-1:r+2, c-1:c+2] * neighbors\n",
    "    return np.sort(tmp_labels[np.nonzero(tmp_labels)])\n",
    "\n",
    "def connected_component_labelling(bin_img, connectivity=connectivity_8) :\n",
    "    \n",
    "    equivalent = [] # equivalent는 윈도우 안에 동시에 존재하는 label들이 같은 label임을 나타낸다. e.g) 2->1, 8->7, 항상 낮은값으로 병합\n",
    "    labels = np.zeros_like(bin_img, dtype='int64')\n",
    "    next_label = 1\n",
    "    \n",
    "    # 1st pass\n",
    "    # connectivity 3x3의 윈도우를 슬라이드한다.\n",
    "    for r, row in enumerate(bin_img) :\n",
    "        for c, pixel in enumerate(row) :\n",
    "            if pixel != 0 :\n",
    "                try :\n",
    "                    neighbors = bin_img[r-1:r+2, c-1:c+2]*connectivity # connectivity의 1위치 제외하고 나머지 값들은 0을 갖음. [r-1:r+2, c-1:c+2]의 shape이 connectivity shape과 다를 경우에 대한 예외처리가 필요함\n",
    "                except :\n",
    "                    pass\n",
    "                num_neighbors = np.count_nonzero(neighbors) # 주변값들 중 0이 아닌 값이 있는지 확인\n",
    "                \n",
    "                if num_neighbors == 0 : # 주변값들이 전부 0일 경우, (r,c) 위치에 label을 마킹하고, equivalent에 같은 next_label 두 개를 넣는다.\n",
    "                    labels[r,c] = next_label\n",
    "                    equivalent.append([next_label, next_label])\n",
    "                    next_label += 1\n",
    "                else :\n",
    "                    L = find_labels(labels, r, c, neighbors) # 윈도우 안에 동시에 존재하는 label들을 찾는다. np.sort하는 이유는 모르겠음.\n",
    "                    labels[r,c] = np.min(L) # 낮은 값으로 라벨 병합\n",
    "                    \n",
    "                    uni_L = np.unique(L)\n",
    "                    if len(uni_L) > 1 :\n",
    "                        for i, e in enumerate(equivalent) :\n",
    "                            if uni_L[0] in e :\n",
    "                                equivalent[i].extend(uni_L[1:])\n",
    "                                equivalent[i] = list(sorted(set(equivalent[i])))\n",
    "    # 2nd pass. 다른 라벨들 통합                 \n",
    "    for e in equivalent :\n",
    "        for f in reversed(e) : # 뒤에서부터 확인해야 더 높은 라벨을 더 낮은 라벨로 치환할 수 있다. e.g) 2->1\n",
    "            labels[labels==f] = e[0]\n",
    "            \n",
    "    return labels\n",
    "\n",
    "def threshold_labels(labels, threshold = 100000) :\n",
    "    \n",
    "    unique_elements, counts_elements = np.unique(labels, return_counts = True)\n",
    "    thr_elements = unique_elements[counts_elements> threshold]\n",
    "    \n",
    "    thr_labels = np.zeros_like(labels)\n",
    "    \n",
    "    cnt = 0\n",
    "    for e in thr_elements :\n",
    "        if e != 0 :\n",
    "            cnt += 1\n",
    "            thr_labels[labels == e] = cnt\n",
    "    return thr_labels"
   ]
  },
  {
   "cell_type": "code",
   "execution_count": 82,
   "metadata": {},
   "outputs": [
    {
     "data": {
      "text/plain": [
       "<matplotlib.image.AxesImage at 0x7f85b02d6550>"
      ]
     },
     "execution_count": 82,
     "metadata": {},
     "output_type": "execute_result"
    },
    {
     "data": {
      "image/png": "[encoded data removed]",
      "text/plain": [
       "<Figure size 432x288 with 1 Axes>"
      ]
     },
     "metadata": {
      "needs_background": "light"
     },
     "output_type": "display_data"
    }
   ],
   "source": [
    "labels_4 = connected_component_labelling(bin_img, connectivity_4)\n",
    "thr_labels_4 = threshold_labels(labels_4)\n",
    "\n",
    "plt.imshow(labels_4)\n"
   ]
  },
  {
   "cell_type": "code",
   "execution_count": null,
   "metadata": {},
   "outputs": [],
   "source": []
  },
  {
   "cell_type": "code",
   "execution_count": null,
   "metadata": {},
   "outputs": [],
   "source": []
  }
 ],
 "metadata": {
  "kernelspec": {
   "display_name": "Python 3",
   "language": "python",
   "name": "python3"
  },
  "language_info": {
   "codemirror_mode": {
    "name": "ipython",
    "version": 3
   },
   "file_extension": ".py",
   "mimetype": "text/x-python",
   "name": "python",
   "nbconvert_exporter": "python",
   "pygments_lexer": "ipython3",
   "version": "3.8.2"
  }
 },
 "nbformat": 4,
 "nbformat_minor": 4
}
